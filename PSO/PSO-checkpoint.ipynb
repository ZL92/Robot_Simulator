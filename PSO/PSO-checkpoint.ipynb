{
 "cells": [
  {
   "cell_type": "code",
   "execution_count": 18,
   "metadata": {},
   "outputs": [],
   "source": [
    "import numpy as np\n",
    "import matplotlib.pyplot as plt \n",
    "import seaborn as sns"
   ]
  },
  {
   "cell_type": "code",
   "execution_count": 19,
   "metadata": {},
   "outputs": [],
   "source": [
    "def Rosenbrock(x, y):\n",
    "    output = pow(x,2) + pow(y - pow(x,2),2)\n",
    "    return output\n"
   ]
  },
  {
   "cell_type": "code",
   "execution_count": 40,
   "metadata": {},
   "outputs": [
    {
     "data": {
      "text/plain": [
       "array([1.220e+04, 8.181e+03, 5.248e+03, 3.185e+03, 1.800e+03, 9.250e+02,\n",
       "       4.160e+02, 1.530e+02, 4.000e+01, 5.000e+00, 0.000e+00, 1.000e+00,\n",
       "       8.000e+00, 4.500e+01, 1.600e+02, 4.250e+02, 9.360e+02, 1.813e+03,\n",
       "       3.200e+03, 5.265e+03, 8.200e+03])"
      ]
     },
     "execution_count": 40,
     "metadata": {},
     "output_type": "execute_result"
    }
   ],
   "source": [
    "x = np.linspace(-10,10,num = 21)\n",
    "y = np.linspace(-10,10,num = 21)\n",
    "z = Rosenbrock(x, y)\n",
    "z"
   ]
  },
  {
   "cell_type": "code",
   "execution_count": null,
   "metadata": {},
   "outputs": [],
   "source": []
  }
 ],
 "metadata": {
  "kernelspec": {
   "display_name": "Python 3",
   "language": "python",
   "name": "python3"
  },
  "language_info": {
   "codemirror_mode": {
    "name": "ipython",
    "version": 3
   },
   "file_extension": ".py",
   "mimetype": "text/x-python",
   "name": "python",
   "nbconvert_exporter": "python",
   "pygments_lexer": "ipython3",
   "version": "3.5.4"
  }
 },
 "nbformat": 4,
 "nbformat_minor": 2
}
