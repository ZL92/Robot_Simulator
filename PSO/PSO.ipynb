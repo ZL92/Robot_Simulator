{
 "cells": [
  {
   "cell_type": "code",
   "execution_count": 1,
   "metadata": {},
   "outputs": [],
   "source": [
    "import numpy as np\n",
    "import matplotlib.pyplot as plt \n",
    "import seaborn as sns\n",
    "import random\n",
    "import decimal"
   ]
  },
  {
   "cell_type": "code",
   "execution_count": 3,
   "metadata": {},
   "outputs": [],
   "source": [
    "def Rosenbrock(x):\n",
    "    output = pow(x[0],2) + pow(x[1] - pow(x[0],2),2)\n",
    "    return output\n"
   ]
  },
  {
   "cell_type": "code",
   "execution_count": 26,
   "metadata": {},
   "outputs": [],
   "source": [
    "def Rastrigin(x):\n",
    "    #print('Length of {} is: {}'.format(x,len(x)))\n",
    "    return ((10 * len(x)) + sum(x[i]**2 - 10 * np.cos(2 * np.pi * x[i]) for i in range(len(x))))"
   ]
  },
  {
   "cell_type": "code",
   "execution_count": null,
   "metadata": {},
   "outputs": [],
   "source": [
    "testTotal = sum()\n",
    "print(testTotal)"
   ]
  },
  {
   "cell_type": "code",
   "execution_count": 27,
   "metadata": {},
   "outputs": [
    {
     "name": "stdout",
     "output_type": "stream",
     "text": "[6.99715439e-10 8.68760989e-10]\n[0. 0.]\n"
    }
   ],
   "source": [
    "np.random.seed = 0\n",
    "no_particles = 20\n",
    "no_dimensions = 2\n",
    "max_iters = 1000\n",
    "a = 2\n",
    "b = 2\n",
    "w1 = 0.9\n",
    "w2 = 0.4\n",
    "state = np.zeros((no_particles,no_dimensions))\n",
    "velocity = np.zeros((no_particles,no_dimensions))\n",
    "particle_best_score = np.ones(no_particles)* 1000\n",
    "particle_best_location = np.zeros((no_particles,no_dimensions))\n",
    "global_best = 1000\n",
    "for i in range (no_particles):\n",
    "    for d in range (no_dimensions):\n",
    "        state[i][d] = float(decimal.Decimal(random.randrange(-500, 500))/100)\n",
    "        velocity[i][d] = float(decimal.Decimal(random.randrange(-200, 200))/100)\n",
    "for k in range(max_iters):\n",
    "    for i in range (no_particles):\n",
    "        #fitness_value = Rosenbrock(state[i])\n",
    "        fitness_value = Rastrigin(state[i])\n",
    "        if fitness_value < particle_best_score[i]:\n",
    "            particle_best_score[i] = fitness_value\n",
    "            particle_best_location[i] = state[i]\n",
    "        if fitness_value < global_best:\n",
    "            global_best = fitness_value\n",
    "            global_best_location = state[i]\n",
    "        w = ((w1 - w2)*(max_iters -k)/max_iters) + w2\n",
    "        velocity[i] = (w * velocity[i]) + (a * random.uniform(0,1) * (particle_best_location[i] - state[i]))+ (b * random.uniform(0,1) * (global_best_location - state[i]))\n",
    "        state[i] = state[i] + velocity[i]\n",
    "print(particle_best_location[0])\n",
    "print(np.round(particle_best_location[0]))"
   ]
  },
  {
   "cell_type": "code",
   "execution_count": null,
   "metadata": {},
   "outputs": [],
   "source": []
  },
  {
   "cell_type": "code",
   "execution_count": null,
   "metadata": {},
   "outputs": [],
   "source": []
  }
 ],
 "metadata": {
  "kernelspec": {
   "display_name": "Python 3",
   "language": "python",
   "name": "python3"
  },
  "language_info": {
   "codemirror_mode": {
    "name": "ipython",
    "version": 3
   },
   "file_extension": ".py",
   "mimetype": "text/x-python",
   "name": "python",
   "nbconvert_exporter": "python",
   "pygments_lexer": "ipython3",
   "version": "3.8.0-final"
  }
 },
 "nbformat": 4,
 "nbformat_minor": 2
}